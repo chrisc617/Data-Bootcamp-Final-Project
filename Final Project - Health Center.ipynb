{
 "cells": [
  {
   "cell_type": "code",
   "execution_count": 1,
   "metadata": {
    "scrolled": true
   },
   "outputs": [
    {
     "name": "stdout",
     "output_type": "stream",
     "text": [
      "Today is 2017-12-20\n",
      "Python version:\n",
      "3.6.2 |Anaconda, Inc.| (default, Sep 21 2017, 18:29:43) \n",
      "[GCC 4.2.1 Compatible Clang 4.0.1 (tags/RELEASE_401/final)]\n"
     ]
    }
   ],
   "source": [
    "# import packages \n",
    "import pandas as pd                   # data management\n",
    "import matplotlib.pyplot as plt       # graphics \n",
    "import datetime as dt                 # check today's date \n",
    "import sys                            # check Python version \n",
    "\n",
    "# IPython command, puts plots in notebook \n",
    "%matplotlib inline\n",
    "\n",
    "print('Today is', dt.date.today())\n",
    "print('Python version:\\n', sys.version, sep='') ## Question 0"
   ]
  },
  {
   "cell_type": "code",
   "execution_count": 11,
   "metadata": {},
   "outputs": [
    {
     "name": "stdout",
     "output_type": "stream",
     "text": [
      "(78, 15)\n"
     ]
    },
    {
     "data": {
      "text/html": [
       "<div>\n",
       "<style>\n",
       "    .dataframe thead tr:only-child th {\n",
       "        text-align: right;\n",
       "    }\n",
       "\n",
       "    .dataframe thead th {\n",
       "        text-align: left;\n",
       "    }\n",
       "\n",
       "    .dataframe tbody tr th {\n",
       "        vertical-align: top;\n",
       "    }\n",
       "</style>\n",
       "<table border=\"1\" class=\"dataframe\">\n",
       "  <thead>\n",
       "    <tr style=\"text-align: right;\">\n",
       "      <th></th>\n",
       "      <th>facility type</th>\n",
       "      <th>borough</th>\n",
       "      <th>facility name</th>\n",
       "      <th>cross streets</th>\n",
       "      <th>phone</th>\n",
       "      <th>location 1</th>\n",
       "      <th>postcode</th>\n",
       "      <th>latitude</th>\n",
       "      <th>longitude</th>\n",
       "      <th>community board</th>\n",
       "      <th>council district</th>\n",
       "      <th>census tract</th>\n",
       "      <th>bin</th>\n",
       "      <th>bbl</th>\n",
       "      <th>nta</th>\n",
       "      <th>zip code</th>\n",
       "    </tr>\n",
       "  </thead>\n",
       "  <tbody>\n",
       "    <tr>\n",
       "      <th>0</th>\n",
       "      <td>Child Health Center</td>\n",
       "      <td>Queens</td>\n",
       "      <td>Elmhurst Hospital Center</td>\n",
       "      <td>NaN</td>\n",
       "      <td>718-334-4000</td>\n",
       "      <td>79 01\\nElmhurst, NY 11373\\n(40.73871040256307,...</td>\n",
       "      <td>NaN</td>\n",
       "      <td>40.73871040256307</td>\n",
       "      <td>-73.87835115518163</td>\n",
       "      <td>NaN</td>\n",
       "      <td>NaN</td>\n",
       "      <td>NaN</td>\n",
       "      <td>NaN</td>\n",
       "      <td>NaN</td>\n",
       "      <td>NaN</td>\n",
       "      <td>11373</td>\n",
       "    </tr>\n",
       "    <tr>\n",
       "      <th>1</th>\n",
       "      <td>Nursing Home</td>\n",
       "      <td>Manhattan</td>\n",
       "      <td>Gouverneur Healthcare Services</td>\n",
       "      <td>NaN</td>\n",
       "      <td>212-238-7000</td>\n",
       "      <td>227 Madison Street\\nNew York, NY 10002\\n(40.71...</td>\n",
       "      <td>10002.0</td>\n",
       "      <td>40.712841397447676</td>\n",
       "      <td>-73.98759853472393</td>\n",
       "      <td>3.0</td>\n",
       "      <td>1.0</td>\n",
       "      <td>6.0</td>\n",
       "      <td>1003224.0</td>\n",
       "      <td>1.002700e+09</td>\n",
       "      <td>Lower East Side                               ...</td>\n",
       "      <td>10002</td>\n",
       "    </tr>\n",
       "    <tr>\n",
       "      <th>2</th>\n",
       "      <td>Nursing Home</td>\n",
       "      <td>Manhattan</td>\n",
       "      <td>Coler-Goldwater Specialty Hospital and Nursing...</td>\n",
       "      <td>NaN</td>\n",
       "      <td>212-318-8000</td>\n",
       "      <td>1 Main St Roosevelt Island\\nNew York, NY 10044...</td>\n",
       "      <td>10044.0</td>\n",
       "      <td>40.76197648622593</td>\n",
       "      <td>-73.94999967494499</td>\n",
       "      <td>8.0</td>\n",
       "      <td>5.0</td>\n",
       "      <td>23801.0</td>\n",
       "      <td>1085548.0</td>\n",
       "      <td>1.013730e+09</td>\n",
       "      <td>Lenox Hill-Roosevelt Island                   ...</td>\n",
       "      <td>10044</td>\n",
       "    </tr>\n",
       "    <tr>\n",
       "      <th>3</th>\n",
       "      <td>Nursing Home</td>\n",
       "      <td>Manhattan</td>\n",
       "      <td>Coler-Goldwater Specialty Hospital and Nursing...</td>\n",
       "      <td>NaN</td>\n",
       "      <td>212-848-6000</td>\n",
       "      <td>900 Main Street Roosevelt Island\\nNew York, NY...</td>\n",
       "      <td>10044.0</td>\n",
       "      <td>40.76197648622593</td>\n",
       "      <td>-73.94999967494499</td>\n",
       "      <td>8.0</td>\n",
       "      <td>5.0</td>\n",
       "      <td>23802.0</td>\n",
       "      <td>1040750.0</td>\n",
       "      <td>1.013730e+09</td>\n",
       "      <td>Lenox Hill-Roosevelt Island                   ...</td>\n",
       "      <td>10044</td>\n",
       "    </tr>\n",
       "    <tr>\n",
       "      <th>4</th>\n",
       "      <td>Diagnostic &amp; Treatment Center</td>\n",
       "      <td>Manhattan</td>\n",
       "      <td>Gouverneur Healthcare Services</td>\n",
       "      <td>NaN</td>\n",
       "      <td>212-238-7000</td>\n",
       "      <td>227 Madison Street\\nNew York, NY 10002\\n(40.71...</td>\n",
       "      <td>10002.0</td>\n",
       "      <td>40.712841397447676</td>\n",
       "      <td>-73.98759853472393</td>\n",
       "      <td>3.0</td>\n",
       "      <td>1.0</td>\n",
       "      <td>6.0</td>\n",
       "      <td>1003224.0</td>\n",
       "      <td>1.002700e+09</td>\n",
       "      <td>Lower East Side                               ...</td>\n",
       "      <td>10002</td>\n",
       "    </tr>\n",
       "  </tbody>\n",
       "</table>\n",
       "</div>"
      ],
      "text/plain": [
       "                   facility type    borough  \\\n",
       "0            Child Health Center     Queens   \n",
       "1                   Nursing Home  Manhattan   \n",
       "2                   Nursing Home  Manhattan   \n",
       "3                   Nursing Home  Manhattan   \n",
       "4  Diagnostic & Treatment Center  Manhattan   \n",
       "\n",
       "                                       facility name cross streets  \\\n",
       "0                           Elmhurst Hospital Center           NaN   \n",
       "1                     Gouverneur Healthcare Services           NaN   \n",
       "2  Coler-Goldwater Specialty Hospital and Nursing...           NaN   \n",
       "3  Coler-Goldwater Specialty Hospital and Nursing...           NaN   \n",
       "4                     Gouverneur Healthcare Services           NaN   \n",
       "\n",
       "           phone                                         location 1  postcode  \\\n",
       "0   718-334-4000  79 01\\nElmhurst, NY 11373\\n(40.73871040256307,...       NaN   \n",
       "1   212-238-7000  227 Madison Street\\nNew York, NY 10002\\n(40.71...   10002.0   \n",
       "2   212-318-8000  1 Main St Roosevelt Island\\nNew York, NY 10044...   10044.0   \n",
       "3  212-848-6000   900 Main Street Roosevelt Island\\nNew York, NY...   10044.0   \n",
       "4   212-238-7000  227 Madison Street\\nNew York, NY 10002\\n(40.71...   10002.0   \n",
       "\n",
       "             latitude           longitude  community board  council district  \\\n",
       "0   40.73871040256307  -73.87835115518163              NaN               NaN   \n",
       "1  40.712841397447676  -73.98759853472393              3.0               1.0   \n",
       "2   40.76197648622593  -73.94999967494499              8.0               5.0   \n",
       "3   40.76197648622593  -73.94999967494499              8.0               5.0   \n",
       "4  40.712841397447676  -73.98759853472393              3.0               1.0   \n",
       "\n",
       "   census tract        bin           bbl  \\\n",
       "0           NaN        NaN           NaN   \n",
       "1           6.0  1003224.0  1.002700e+09   \n",
       "2       23801.0  1085548.0  1.013730e+09   \n",
       "3       23802.0  1040750.0  1.013730e+09   \n",
       "4           6.0  1003224.0  1.002700e+09   \n",
       "\n",
       "                                                 nta zip code  \n",
       "0                                                NaN    11373  \n",
       "1  Lower East Side                               ...    10002  \n",
       "2  Lenox Hill-Roosevelt Island                   ...    10044  \n",
       "3  Lenox Hill-Roosevelt Island                   ...    10044  \n",
       "4  Lower East Side                               ...    10002  "
      ]
     },
     "execution_count": 11,
     "metadata": {},
     "output_type": "execute_result"
    }
   ],
   "source": [
    "url = 'https://github.com/zhicheryl/Data-Bootcamp-Final-Project/raw/master/NYC_Health_and_Hospitals_Corporation_Facilities.csv'\n",
    "health_center = pd.read_csv(url, sep=',')\n",
    "health_center.head()\n",
    "hc=health_center\n",
    "hc\n",
    "print(hc.shape)\n",
    "hc.columns=[i.lower() for i in hc.columns]\n",
    "# list(hc['location 1'].str.split('\\n'))[-1]\n",
    "\n",
    "# df['latlng'] = df.apply(lambda row: '{},{}'.format(row['Entrance Latitude'], row['Entrance Longitude']), axis=1)\n",
    "# df['geocode_data'] = df['latlng'].map(reverse_geocode)\n",
    "hc\n",
    "hc['zip code'] = hc['location 1']\n",
    "hc['zip code'] = hc['zip code'].apply(lambda x: str(x))\n",
    "hc['zip code'] = hc['zip code'].apply(lambda x: x.split('\\n')[-2])\n",
    "hc['zip code'] = hc['zip code'].apply(lambda x: x.split(' ')[-1])\n",
    "\n",
    "hc['latitude'] = hc['location 1']\n",
    "hc['latitude'] = hc['latitude'].apply(lambda x: str(x))\n",
    "hc['latitude'] = hc['latitude'].apply(lambda x: x.split('\\n')[-1])\n",
    "hc['latitude'] = hc['latitude'].apply(lambda x: x.split(', ')[-2])\n",
    "hc['latitude'] = hc['latitude'].apply(lambda x: x.split('(')[-1])\n",
    "\n",
    "hc['longitude'] = hc['location 1']\n",
    "hc['longitude'] = hc['longitude'].apply(lambda x: str(x))\n",
    "hc['longitude'] = hc['longitude'].apply(lambda x: x.split('\\n')[-1])\n",
    "hc['longitude'] = hc['longitude'].apply(lambda x: x.split(', ')[-1])\n",
    "hc['longitude'] = hc['longitude'].apply(lambda x: x.split(')')[-2])\n",
    "\n",
    "hc.head()"
   ]
  },
  {
   "cell_type": "code",
   "execution_count": 3,
   "metadata": {},
   "outputs": [
    {
     "data": {
      "text/plain": [
       "facility type     object\n",
       "borough           object\n",
       "facility name     object\n",
       "latitude         float64\n",
       "longitude        float64\n",
       "census tract     float64\n",
       "bbl              float64\n",
       "nta               object\n",
       "zip code          object\n",
       "dtype: object"
      ]
     },
     "execution_count": 3,
     "metadata": {},
     "output_type": "execute_result"
    }
   ],
   "source": [
    "hc.drop(hc[['cross streets','phone','location 1','postcode','community board','council district','bin']],axis=1)\n",
    "hc=hc.drop(hc[['cross streets','phone','location 1','postcode','community board','council district','bin']],axis=1)\n",
    "hc[['latitude','longitude']] = hc[['latitude','longitude']].astype(float)\n",
    "hc.dtypes"
   ]
  },
  {
   "cell_type": "code",
   "execution_count": 8,
   "metadata": {},
   "outputs": [
    {
     "name": "stdout",
     "output_type": "stream",
     "text": [
      "(78, 9)\n",
      "(24, 9)\n"
     ]
    },
    {
     "data": {
      "text/plain": [
       "10027    5\n",
       "10002    4\n",
       "10029    2\n",
       "10044    2\n",
       "10037    2\n",
       "10016    2\n",
       "10032    1\n",
       "10035    1\n",
       "10038    1\n",
       "10009    1\n",
       "10030    1\n",
       "10034    1\n",
       "10012    1\n",
       "Name: zip code, dtype: int64"
      ]
     },
     "execution_count": 8,
     "metadata": {},
     "output_type": "execute_result"
    }
   ],
   "source": [
    "print(hc.shape)\n",
    "hc_m=hc[hc['borough']=='Manhattan']\n",
    "print(hc_m.shape)\n",
    "hc_m.head()\n",
    "hc_m['zip code'].value_counts()\n",
    "# hc_m['facility type'].value_counts()"
   ]
  },
  {
   "cell_type": "code",
   "execution_count": 13,
   "metadata": {
    "scrolled": false
   },
   "outputs": [
    {
     "data": {
      "text/html": [
       "<div style=\"width:100%;\"><div style=\"position:relative;width:100%;height:0;padding-bottom:60%;\"><iframe src=\"data:text/html;charset=utf-8;base64,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\" style=\"position:absolute;width:100%;height:100%;left:0;top:0;border:none !important;\" allowfullscreen webkitallowfullscreen mozallowfullscreen></iframe></div></div>"
      ],
      "text/plain": [
       "<folium.folium.Map at 0x10ff78ef0>"
      ]
     },
     "execution_count": 13,
     "metadata": {},
     "output_type": "execute_result"
    }
   ],
   "source": [
    "import folium\n",
    "\n",
    "hc_m['latitude']\n",
    "lat1=(hc_m['latitude'][8])\n",
    "lon1=(hc_m['longitude'][8])\n",
    "\n",
    "hc_geo=hc_m[['latitude','longitude']]\n",
    "hc_geo.head()\n",
    "\n",
    "map_hc_m = folium.Map(location=[lat1, lon1], zoom_start=12)\n",
    "for lat, lon in zip(hc_geo.latitude, hc_geo.longitude):\n",
    "    folium.Marker(location=[lat,lon]).add_to(map_hc_m)\n",
    "map_hc_m"
   ]
  },
  {
   "cell_type": "code",
   "execution_count": 166,
   "metadata": {
    "collapsed": true
   },
   "outputs": [],
   "source": [
    "# from geopy.geocoders import Nominatim\n",
    "\n",
    "# geolocator = Nominatim()\n",
    "\n",
    "# location = geolocator.reverse('40.70873961, -73.95942528')\n",
    "\n",
    "# # print(location.address)\n",
    "# # #Potsdamer Platz, Mitte, Berlin, 10117, Deutschland, European Union\n",
    "# # print((location.latitude, location.longitude))\n",
    "# # #(52.5094982, 13.3765983)\n",
    "# # print(location.raw)"
   ]
  },
  {
   "cell_type": "code",
   "execution_count": 29,
   "metadata": {},
   "outputs": [
    {
     "data": {
      "text/plain": [
       "{'address': {'city': 'Washington',\n",
       "  'state': 'DC',\n",
       "  'street': '1600 Pennsylvania Avenue',\n",
       "  'zip': '22052'},\n",
       " 'benchmark': {'benchmarkDescription': 'Public Address Ranges - Current Benchmark',\n",
       "  'benchmarkName': 'Public_AR_Current',\n",
       "  'id': '4',\n",
       "  'isDefault': False},\n",
       " 'vintage': {'id': '4',\n",
       "  'isDefault': True,\n",
       "  'vintageDescription': 'Current Vintage - Current Benchmark',\n",
       "  'vintageName': 'Current_Current'}}"
      ]
     },
     "execution_count": 29,
     "metadata": {},
     "output_type": "execute_result"
    }
   ],
   "source": [
    "# from census import Census\n",
    "# from us import states\n",
    "\n",
    "# # c = Census('b04ef6b84880f33009e7123a87c7de98db9c1c0e', year=2010)\n",
    "# # c.acs5.get(('NAME', 'B25034_010E'),\n",
    "# #           {'for': 'state:{}'.format(states.NY.fips)})\n",
    "# # c.acs5.state(('NAME', 'B25034_010E'), states.MD.fips)\n",
    "# c.acs5.get('NAME', geo={'for': 'tract:232',\n",
    "#                        'in': 'state:{}'.format(states.NY.fips)})\n",
    "\n",
    "import censusgeocode as cg\n",
    "\n",
    "# cg1=cg.coordinates(x=-76, y=41)\n",
    "# cg.onelineaddress('1600 Pennsylvania Avenue, Washington, DC')\n",
    "cg.address('1600 Pennsylvania Avenue', city='Washington', state='DC', zipcode='22052')\n",
    "# cg.addressbatch('data/addresses.csv')\n",
    "cg1=cg.address('1600 Pennsylvania Avenue', city='Washington', state='DC', zipcode='22052')\n",
    "cg1.input"
   ]
  }
 ],
 "metadata": {
  "kernelspec": {
   "display_name": "Python 3",
   "language": "python",
   "name": "python3"
  },
  "language_info": {
   "codemirror_mode": {
    "name": "ipython",
    "version": 3
   },
   "file_extension": ".py",
   "mimetype": "text/x-python",
   "name": "python",
   "nbconvert_exporter": "python",
   "pygments_lexer": "ipython3",
   "version": "3.6.2"
  }
 },
 "nbformat": 4,
 "nbformat_minor": 2
}
